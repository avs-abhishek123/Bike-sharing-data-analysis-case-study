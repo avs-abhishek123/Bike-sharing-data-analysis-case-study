{
  "nbformat": 4,
  "nbformat_minor": 0,
  "metadata": {
    "colab": {
      "name": "GPDAC Case study - Cyclics bike-sharing.ipynb",
      "provenance": [],
      "collapsed_sections": [
        "Ea1oYdEx9kyb"
      ],
      "toc_visible": true,
      "mount_file_id": "1c3TqNdF-FG8miInHWWA1PGM92gQU851O",
      "authorship_tag": "ABX9TyOKt/Ze47Bq45bQYIU8VuAl",
      "include_colab_link": true
    },
    "kernelspec": {
      "name": "python3",
      "display_name": "Python 3"
    },
    "language_info": {
      "name": "python"
    }
  },
  "cells": [
    {
      "cell_type": "markdown",
      "metadata": {
        "id": "view-in-github",
        "colab_type": "text"
      },
      "source": [
        "<a href=\"https://colab.research.google.com/github/hamzarabi3/Bike-sharing-data-analysis-case-study/blob/main/Cyclics_bike_sharing_code.ipynb\" target=\"_parent\"><img src=\"https://colab.research.google.com/assets/colab-badge.svg\" alt=\"Open In Colab\"/></a>"
      ]
    },
    {
      "cell_type": "markdown",
      "metadata": {
        "id": "SMZJFd2ZDkcO"
      },
      "source": [
        "# How Does a Bike-Share Navigate Speedy Success? "
      ]
    },
    {
      "cell_type": "markdown",
      "metadata": {
        "id": "Jlz8M_D7EOW7"
      },
      "source": [
        "## Introduction\n",
        "**1. About the company** \n",
        "\n",
        "\n",
        "<img src='https://images.unsplash.com/photo-1565444872947-6fd5f91ee0f0?ixid=MnwxMjA3fDB8MHxwaG90by1wYWdlfHx8fGVufDB8fHx8&ixlib=rb-1.2.1&auto=format&fit=crop&w=889&q=80'/>\n",
        "\n",
        "\n",
        "In 2016, Cyclistic launched a successful bike-share oering. Since then, the program has grown to a fleet of 5,824 bicycles that\n",
        "are geotracked and locked into a network of 692 stations across Chicago. The bikes can be unlocked from one station and\n",
        "returned to any other station in the system anytime.\n",
        "\n",
        "Until now, Cyclistic’s marketing strategy relied on building general awareness and appealing to broad consumer segments. One\n",
        "approach that helped make these things possible was the flexibility of its pricing plans: single-ride passes, full-day passes, and\n",
        "annual memberships.\n",
        "\n",
        "Customers who purchase single-ride or full-day passes are referred to as *casual riders*. Customers who purchase annual memberships are *Cyclistic members*.\n",
        "\n",
        "**2. Business Task**\n",
        "* Identify the differences between Casual riders and Cyclistic members in their use of Cyclics bikes.\n",
        "\n",
        "**3. Stakeholders**\n",
        "* Primary stakeholder : Lily Monero (Director of Marketing)\n",
        "* Secondary Stakeholders : Cyclistic Marketing analytics team\n",
        "\n",
        "\n",
        "\n"
      ]
    },
    {
      "cell_type": "code",
      "metadata": {
        "id": "ELKKQT8MAWdA"
      },
      "source": [
        "import pandas as pd\n",
        "from os import listdir\n",
        "import numpy as np\n",
        "import seaborn as sns\n",
        "import matplotlib.pyplot as plt\n",
        "sns.set_style('whitegrid')"
      ],
      "execution_count": null,
      "outputs": []
    },
    {
      "cell_type": "markdown",
      "metadata": {
        "id": "OKacpBBN77Q9"
      },
      "source": [
        "## Preparation"
      ]
    },
    {
      "cell_type": "markdown",
      "metadata": {
        "id": "faW4gFfrCMln"
      },
      "source": [
        "**1. Download the data**"
      ]
    },
    {
      "cell_type": "code",
      "metadata": {
        "id": "Fc1_VPjkDM9k",
        "colab": {
          "base_uri": "https://localhost:8080/"
        },
        "outputId": "45c1b0c2-6c42-464f-fc8d-495881feb384"
      },
      "source": [
        "%%shell\n",
        "# cd /content/drive/MyDrive/DATAsets/Cyclistic\n",
        "\n",
        "# wget https://divvy-tripdata.s3.amazonaws.com/202004-divvy-tripdata.zip \n",
        "# wget https://divvy-tripdata.s3.amazonaws.com/202006-divvy-tripdata.zip\n",
        "# wget https://divvy-tripdata.s3.amazonaws.com/202007-divvy-tripdata.zip\n",
        "# wget https://divvy-tripdata.s3.amazonaws.com/202008-divvy-tripdata.zip\n",
        "# wget https://divvy-tripdata.s3.amazonaws.com/202009-divvy-tripdata.zip\n",
        "# wget https://divvy-tripdata.s3.amazonaws.com/202010-divvy-tripdata.zip\n",
        "# wget https://divvy-tripdata.s3.amazonaws.com/202011-divvy-tripdata.zip\n",
        "# wget https://divvy-tripdata.s3.amazonaws.com/202012-divvy-tripdata.zip\n",
        "# wget https://divvy-tripdata.s3.amazonaws.com/202101-divvy-tripdata.zip\n",
        "# wget https://divvy-tripdata.s3.amazonaws.com/202102-divvy-tripdata.zip\n",
        "# wget https://divvy-tripdata.s3.amazonaws.com/202103-divvy-tripdata.zip\n",
        "\n",
        "# unzip \\*.zip\n",
        "# rm /content/drive/MyDrive/DATAsets/Cyclistic/*.zip\n",
        "# rm -d -r /content/drive/MyDrive/DATAsets/Cyclistic/__MACOSX\n",
        "\n",
        "cp -r /content/drive/MyDrive/DATAsets/Cyclistic /content"
      ],
      "execution_count": null,
      "outputs": [
        {
          "output_type": "execute_result",
          "data": {
            "text/plain": [
              ""
            ]
          },
          "metadata": {
            "tags": []
          },
          "execution_count": 5
        }
      ]
    },
    {
      "cell_type": "code",
      "metadata": {
        "id": "653ajRZEHuNv"
      },
      "source": [
        "path='/content/Cyclistic'"
      ],
      "execution_count": null,
      "outputs": []
    },
    {
      "cell_type": "markdown",
      "metadata": {
        "id": "Fzg0j14aJlpD"
      },
      "source": [
        "**2. About the dataset ?** \n",
        "\n",
        "We will be using a public dataset published by [Divvy](https://www.divvybikes.com/about) : \n",
        "\n",
        ">Divvy is Chicagoland’s bike share system across Chicago and Evanston. Divvy provides residents and visitors with a convenient, fun and affordable transportation option for getting around and exploring Chicago.\n",
        "\n",
        "\n",
        "This dataset is made public under this [license](https://www.divvybikes.com/data-license-agreement) which grants us the right to *access, reproduce, analyze, copy, modify, distribute in your product or service and use the Data for any lawful purpose.*\n",
        "\n",
        "The dataset consists of 12 csv files corresponding to 12 months of Divvy's customer data from April 2020 to March 2021. Considering the time of the analysis, this dataset is perfectly **current**. "
      ]
    },
    {
      "cell_type": "markdown",
      "metadata": {
        "id": "Ea1oYdEx9kyb"
      },
      "source": [
        "## Processing"
      ]
    },
    {
      "cell_type": "code",
      "metadata": {
        "id": "9brv4slxH0U-"
      },
      "source": [
        "files=listdir(path)"
      ],
      "execution_count": null,
      "outputs": []
    },
    {
      "cell_type": "markdown",
      "metadata": {
        "id": "AfqFriU894s8"
      },
      "source": [
        "**1. Merge all in one file**"
      ]
    },
    {
      "cell_type": "code",
      "metadata": {
        "id": "bj2HF-mTJTjb"
      },
      "source": [
        "f=files[0]\n",
        "all=pd.read_csv(path+'/'+f)\n",
        "\n",
        "for f in files[1:]:\n",
        "  df=pd.read_csv(path+'/'+f)\n",
        "  all=all.append(df)"
      ],
      "execution_count": null,
      "outputs": []
    },
    {
      "cell_type": "code",
      "metadata": {
        "colab": {
          "base_uri": "https://localhost:8080/"
        },
        "id": "X6aCgILP7Inc",
        "outputId": "032a3225-55cf-4948-8d06-75f22213e946"
      },
      "source": [
        "len(all['ride_id'].unique()) #how many rides are there?"
      ],
      "execution_count": null,
      "outputs": [
        {
          "output_type": "execute_result",
          "data": {
            "text/plain": [
              "3489539"
            ]
          },
          "metadata": {
            "tags": []
          },
          "execution_count": 5
        }
      ]
    },
    {
      "cell_type": "markdown",
      "metadata": {
        "id": "I7xZemyL-YPY"
      },
      "source": [
        "**2. Datetime columns**"
      ]
    },
    {
      "cell_type": "code",
      "metadata": {
        "id": "d-fLC6ng7oal"
      },
      "source": [
        "all['started_at']=pd.to_datetime(all['started_at'])\n",
        "all['ended_at']=pd.to_datetime(all['ended_at'])"
      ],
      "execution_count": null,
      "outputs": []
    },
    {
      "cell_type": "code",
      "metadata": {
        "id": "T4uf3iBV8W5O"
      },
      "source": [
        "all['ride_duration']=all['ended_at']-all['started_at'] \n",
        "all['ride_duration']=all['ride_duration'].dt.total_seconds()//60\n",
        "all=all.query('ride_duration > 0') #ride duration must be positive"
      ],
      "execution_count": null,
      "outputs": []
    },
    {
      "cell_type": "code",
      "metadata": {
        "id": "0zMx8C15Flr3"
      },
      "source": [
        "d='start'\n",
        "all[d+'_month']=all[d+'ed_at'].dt.month\n",
        "all[d+'_dayofweek']=all[d+'ed_at'].dt.day_name()\n",
        "all[d+'_quarter']=all[d+'ed_at'].dt.quarter\n",
        "all[d+'_hour']=all[d+'ed_at'].dt.hour \n",
        "\n",
        "d='end'\n",
        "all[d+'_month']=all[d+'ed_at'].dt.month\n",
        "all[d+'_dayofweek']=all[d+'ed_at'].dt.day_name()\n",
        "all[d+'_quarter']=all[d+'ed_at'].dt.quarter\n",
        "all[d+'_hour']=all[d+'ed_at'].dt.hour "
      ],
      "execution_count": null,
      "outputs": []
    },
    {
      "cell_type": "code",
      "metadata": {
        "id": "7CT6mHGmfIhD"
      },
      "source": [
        "all.to_csv('/content/drive/MyDrive/Cyclistic_project/processed_divvy_dataset.csv',index=0)"
      ],
      "execution_count": null,
      "outputs": []
    },
    {
      "cell_type": "code",
      "metadata": {
        "id": "S30iENO5fsQB"
      },
      "source": [
        "del all"
      ],
      "execution_count": null,
      "outputs": []
    },
    {
      "cell_type": "markdown",
      "metadata": {
        "id": "f-GPiXEEM8l7"
      },
      "source": [
        "## Analysis"
      ]
    },
    {
      "cell_type": "code",
      "metadata": {
        "colab": {
          "base_uri": "https://localhost:8080/"
        },
        "id": "2dso_V1Bf5yf",
        "outputId": "bece20af-8d3f-4a55-9209-8965ac4ab557"
      },
      "source": [
        "data=pd.read_csv('/content/drive/MyDrive/Cyclistic_project/processed_divvy_dataset.csv')\n",
        "data['started_at']=pd.to_datetime(data['started_at'])\n",
        "data['ended_at']=pd.to_datetime(data['ended_at'])"
      ],
      "execution_count": null,
      "outputs": [
        {
          "output_type": "stream",
          "text": [
            "/usr/local/lib/python3.7/dist-packages/IPython/core/interactiveshell.py:2718: DtypeWarning: Columns (5,7) have mixed types.Specify dtype option on import or set low_memory=False.\n",
            "  interactivity=interactivity, compiler=compiler, result=result)\n"
          ],
          "name": "stderr"
        }
      ]
    },
    {
      "cell_type": "code",
      "metadata": {
        "colab": {
          "base_uri": "https://localhost:8080/",
          "height": 294
        },
        "id": "wdyreMliAq0R",
        "outputId": "b3ebbe28-e9b1-486e-cba8-e72a3a15c6cc"
      },
      "source": [
        "data[['ride_duration']].describe()"
      ],
      "execution_count": null,
      "outputs": [
        {
          "output_type": "execute_result",
          "data": {
            "text/html": [
              "<div>\n",
              "<style scoped>\n",
              "    .dataframe tbody tr th:only-of-type {\n",
              "        vertical-align: middle;\n",
              "    }\n",
              "\n",
              "    .dataframe tbody tr th {\n",
              "        vertical-align: top;\n",
              "    }\n",
              "\n",
              "    .dataframe thead th {\n",
              "        text-align: right;\n",
              "    }\n",
              "</style>\n",
              "<table border=\"1\" class=\"dataframe\">\n",
              "  <thead>\n",
              "    <tr style=\"text-align: right;\">\n",
              "      <th></th>\n",
              "      <th>ride_duration</th>\n",
              "    </tr>\n",
              "  </thead>\n",
              "  <tbody>\n",
              "    <tr>\n",
              "      <th>count</th>\n",
              "      <td>3.429432e+06</td>\n",
              "    </tr>\n",
              "    <tr>\n",
              "      <th>mean</th>\n",
              "      <td>2.785992e+01</td>\n",
              "    </tr>\n",
              "    <tr>\n",
              "      <th>std</th>\n",
              "      <td>2.546552e+02</td>\n",
              "    </tr>\n",
              "    <tr>\n",
              "      <th>min</th>\n",
              "      <td>1.000000e+00</td>\n",
              "    </tr>\n",
              "    <tr>\n",
              "      <th>25%</th>\n",
              "      <td>8.000000e+00</td>\n",
              "    </tr>\n",
              "    <tr>\n",
              "      <th>50%</th>\n",
              "      <td>1.400000e+01</td>\n",
              "    </tr>\n",
              "    <tr>\n",
              "      <th>75%</th>\n",
              "      <td>2.600000e+01</td>\n",
              "    </tr>\n",
              "    <tr>\n",
              "      <th>max</th>\n",
              "      <td>5.872000e+04</td>\n",
              "    </tr>\n",
              "  </tbody>\n",
              "</table>\n",
              "</div>"
            ],
            "text/plain": [
              "       ride_duration\n",
              "count   3.429432e+06\n",
              "mean    2.785992e+01\n",
              "std     2.546552e+02\n",
              "min     1.000000e+00\n",
              "25%     8.000000e+00\n",
              "50%     1.400000e+01\n",
              "75%     2.600000e+01\n",
              "max     5.872000e+04"
            ]
          },
          "metadata": {
            "tags": []
          },
          "execution_count": 9
        }
      ]
    },
    {
      "cell_type": "code",
      "metadata": {
        "colab": {
          "base_uri": "https://localhost:8080/",
          "height": 265
        },
        "id": "dTiKODR6fnU3",
        "outputId": "70d7e5b0-9636-440c-8f4e-9bf54ef3db6a"
      },
      "source": [
        "data.head(3)"
      ],
      "execution_count": null,
      "outputs": [
        {
          "output_type": "execute_result",
          "data": {
            "text/html": [
              "<div>\n",
              "<style scoped>\n",
              "    .dataframe tbody tr th:only-of-type {\n",
              "        vertical-align: middle;\n",
              "    }\n",
              "\n",
              "    .dataframe tbody tr th {\n",
              "        vertical-align: top;\n",
              "    }\n",
              "\n",
              "    .dataframe thead th {\n",
              "        text-align: right;\n",
              "    }\n",
              "</style>\n",
              "<table border=\"1\" class=\"dataframe\">\n",
              "  <thead>\n",
              "    <tr style=\"text-align: right;\">\n",
              "      <th></th>\n",
              "      <th>ride_id</th>\n",
              "      <th>rideable_type</th>\n",
              "      <th>started_at</th>\n",
              "      <th>ended_at</th>\n",
              "      <th>start_station_name</th>\n",
              "      <th>start_station_id</th>\n",
              "      <th>end_station_name</th>\n",
              "      <th>end_station_id</th>\n",
              "      <th>start_lat</th>\n",
              "      <th>start_lng</th>\n",
              "      <th>end_lat</th>\n",
              "      <th>end_lng</th>\n",
              "      <th>member_casual</th>\n",
              "      <th>ride_duration</th>\n",
              "      <th>start_month</th>\n",
              "      <th>start_dayofweek</th>\n",
              "      <th>start_quarter</th>\n",
              "      <th>start_hour</th>\n",
              "      <th>end_month</th>\n",
              "      <th>end_dayofweek</th>\n",
              "      <th>end_quarter</th>\n",
              "      <th>end_hour</th>\n",
              "    </tr>\n",
              "  </thead>\n",
              "  <tbody>\n",
              "    <tr>\n",
              "      <th>0</th>\n",
              "      <td>BD0A6FF6FFF9B921</td>\n",
              "      <td>electric_bike</td>\n",
              "      <td>2020-11-01 13:36:00</td>\n",
              "      <td>2020-11-01 13:45:40</td>\n",
              "      <td>Dearborn St &amp; Erie St</td>\n",
              "      <td>110</td>\n",
              "      <td>St. Clair St &amp; Erie St</td>\n",
              "      <td>211</td>\n",
              "      <td>41.894177</td>\n",
              "      <td>-87.629127</td>\n",
              "      <td>41.894434</td>\n",
              "      <td>-87.623379</td>\n",
              "      <td>casual</td>\n",
              "      <td>9.0</td>\n",
              "      <td>11</td>\n",
              "      <td>Sunday</td>\n",
              "      <td>4</td>\n",
              "      <td>13</td>\n",
              "      <td>11</td>\n",
              "      <td>Sunday</td>\n",
              "      <td>4</td>\n",
              "      <td>13</td>\n",
              "    </tr>\n",
              "    <tr>\n",
              "      <th>1</th>\n",
              "      <td>96A7A7A4BDE4F82D</td>\n",
              "      <td>electric_bike</td>\n",
              "      <td>2020-11-01 10:03:26</td>\n",
              "      <td>2020-11-01 10:14:45</td>\n",
              "      <td>Franklin St &amp; Illinois St</td>\n",
              "      <td>672</td>\n",
              "      <td>Noble St &amp; Milwaukee Ave</td>\n",
              "      <td>29</td>\n",
              "      <td>41.890959</td>\n",
              "      <td>-87.635343</td>\n",
              "      <td>41.900675</td>\n",
              "      <td>-87.662480</td>\n",
              "      <td>casual</td>\n",
              "      <td>11.0</td>\n",
              "      <td>11</td>\n",
              "      <td>Sunday</td>\n",
              "      <td>4</td>\n",
              "      <td>10</td>\n",
              "      <td>11</td>\n",
              "      <td>Sunday</td>\n",
              "      <td>4</td>\n",
              "      <td>10</td>\n",
              "    </tr>\n",
              "    <tr>\n",
              "      <th>2</th>\n",
              "      <td>C61526D06582BDC5</td>\n",
              "      <td>electric_bike</td>\n",
              "      <td>2020-11-01 00:34:05</td>\n",
              "      <td>2020-11-01 01:03:06</td>\n",
              "      <td>Lake Shore Dr &amp; Monroe St</td>\n",
              "      <td>76</td>\n",
              "      <td>Federal St &amp; Polk St</td>\n",
              "      <td>41</td>\n",
              "      <td>41.880983</td>\n",
              "      <td>-87.616754</td>\n",
              "      <td>41.872054</td>\n",
              "      <td>-87.629550</td>\n",
              "      <td>casual</td>\n",
              "      <td>29.0</td>\n",
              "      <td>11</td>\n",
              "      <td>Sunday</td>\n",
              "      <td>4</td>\n",
              "      <td>0</td>\n",
              "      <td>11</td>\n",
              "      <td>Sunday</td>\n",
              "      <td>4</td>\n",
              "      <td>1</td>\n",
              "    </tr>\n",
              "  </tbody>\n",
              "</table>\n",
              "</div>"
            ],
            "text/plain": [
              "            ride_id  rideable_type  ... end_quarter end_hour\n",
              "0  BD0A6FF6FFF9B921  electric_bike  ...           4       13\n",
              "1  96A7A7A4BDE4F82D  electric_bike  ...           4       10\n",
              "2  C61526D06582BDC5  electric_bike  ...           4        1\n",
              "\n",
              "[3 rows x 22 columns]"
            ]
          },
          "metadata": {
            "tags": []
          },
          "execution_count": 10
        }
      ]
    },
    {
      "cell_type": "markdown",
      "metadata": {
        "id": "WTVVFACLlmw6"
      },
      "source": [
        "**1. Rides count**"
      ]
    },
    {
      "cell_type": "code",
      "metadata": {
        "colab": {
          "base_uri": "https://localhost:8080/",
          "height": 404
        },
        "id": "rc1mVbHmog38",
        "outputId": "52db61c7-9b51-49b7-e1b2-527797938756"
      },
      "source": [
        "plt.figure(figsize=(16,6))\n",
        "sns.countplot(data=data,\n",
        "             x='start_dayofweek',\n",
        "             hue='member_casual',\n",
        "             palette='deep',\n",
        "             order=['Monday','Tuesday','Wednesday','Thursday','Friday','Saturday','Sunday']\n",
        "             );\n",
        "\n",
        "plt.xlabel('Day')\n",
        "plt.ylabel('Number of rides')\n",
        "plt.title('Total rides per day for each customer type');\n",
        "plt.legend(['Casual customer','Member'])\n",
        "plt.savefig('/content/drive/MyDrive/Cyclistic_project/rides_per_day.png');"
      ],
      "execution_count": null,
      "outputs": [
        {
          "output_type": "display_data",
          "data": {
            "image/png": "[encoded data removed]",
            "text/plain": [
              "<Figure size 1152x432 with 1 Axes>"
            ]
          },
          "metadata": {
            "tags": []
          }
        }
      ]
    },
    {
      "cell_type": "code",
      "metadata": {
        "id": "6pgBObZdmyXd"
      },
      "source": [
        "months=[4,5,6,7,8,9,10,11,12,1,2,3]"
      ],
      "execution_count": null,
      "outputs": []
    },
    {
      "cell_type": "code",
      "metadata": {
        "colab": {
          "base_uri": "https://localhost:8080/",
          "height": 404
        },
        "id": "hCwoMjJpvyhz",
        "outputId": "b0dfe26a-cdd7-4221-f855-0f88c8477477"
      },
      "source": [
        "plt.figure(figsize=(16,6))\n",
        "sns.countplot(data=data,\n",
        "             x='start_month',\n",
        "             hue='member_casual',\n",
        "             palette='deep',\n",
        "              order=months\n",
        "             );\n",
        "\n",
        "plt.xlabel('Month')\n",
        "plt.ylabel('Number of rides')\n",
        "plt.title('Total rides per month for each customer type');\n",
        "plt.legend(['Casual customer','Member'])\n",
        "plt.savefig('/content/drive/MyDrive/Cyclistic_project/rides_per_month.png');"
      ],
      "execution_count": null,
      "outputs": [
        {
          "output_type": "display_data",
          "data": {
            "image/png": "[encoded data removed]",
            "text/plain": [
              "<Figure size 1152x432 with 1 Axes>"
            ]
          },
          "metadata": {
            "tags": []
          }
        }
      ]
    },
    {
      "cell_type": "markdown",
      "metadata": {
        "id": "BJCwDUtroAiS"
      },
      "source": [
        "> From the above visuals we can spot some key differences : \n",
        "> *  Casual members daily rides count is at its max on weekends\n",
        "> *  Although, Members rides count is minimal on weekends, their demand on rides is fairly stable and it remains between 250k and slightly surpasses 300k on Saturday compared to casual customers demand which goes from less than 150k in workdays to more than 300k on Saturdays. \n",
        "> * The demand on bike sharing service changes significantly around the year, this is probabliy because it snows in winter in Chicago."
      ]
    },
    {
      "cell_type": "markdown",
      "metadata": {
        "id": "x81IehXSl-Lr"
      },
      "source": [
        "**2. Ride duration**"
      ]
    },
    {
      "cell_type": "code",
      "metadata": {
        "colab": {
          "base_uri": "https://localhost:8080/",
          "height": 172
        },
        "id": "cjiDOTTofJBo",
        "outputId": "de2fd7c7-2957-4a2b-a727-ed4111cccb2f"
      },
      "source": [
        "pd.pivot_table(data,index='member_casual',values='ride_duration',aggfunc=[np.mean,np.std])"
      ],
      "execution_count": null,
      "outputs": [
        {
          "output_type": "execute_result",
          "data": {
            "text/html": [
              "<div>\n",
              "<style scoped>\n",
              "    .dataframe tbody tr th:only-of-type {\n",
              "        vertical-align: middle;\n",
              "    }\n",
              "\n",
              "    .dataframe tbody tr th {\n",
              "        vertical-align: top;\n",
              "    }\n",
              "\n",
              "    .dataframe thead tr th {\n",
              "        text-align: left;\n",
              "    }\n",
              "\n",
              "    .dataframe thead tr:last-of-type th {\n",
              "        text-align: right;\n",
              "    }\n",
              "</style>\n",
              "<table border=\"1\" class=\"dataframe\">\n",
              "  <thead>\n",
              "    <tr>\n",
              "      <th></th>\n",
              "      <th>mean</th>\n",
              "      <th>std</th>\n",
              "    </tr>\n",
              "    <tr>\n",
              "      <th></th>\n",
              "      <th>ride_duration</th>\n",
              "      <th>ride_duration</th>\n",
              "    </tr>\n",
              "    <tr>\n",
              "      <th>member_casual</th>\n",
              "      <th></th>\n",
              "      <th></th>\n",
              "    </tr>\n",
              "  </thead>\n",
              "  <tbody>\n",
              "    <tr>\n",
              "      <th>casual</th>\n",
              "      <td>45.014347</td>\n",
              "      <td>380.497717</td>\n",
              "    </tr>\n",
              "    <tr>\n",
              "      <th>member</th>\n",
              "      <td>15.879930</td>\n",
              "      <td>93.170724</td>\n",
              "    </tr>\n",
              "  </tbody>\n",
              "</table>\n",
              "</div>"
            ],
            "text/plain": [
              "                       mean           std\n",
              "              ride_duration ride_duration\n",
              "member_casual                            \n",
              "casual            45.014347    380.497717\n",
              "member            15.879930     93.170724"
            ]
          },
          "metadata": {
            "tags": []
          },
          "execution_count": 78
        }
      ]
    },
    {
      "cell_type": "code",
      "metadata": {
        "colab": {
          "base_uri": "https://localhost:8080/",
          "height": 404
        },
        "id": "2NknQ49rW7pW",
        "outputId": "f4d1de55-3df8-4940-fce5-2524a0610d99"
      },
      "source": [
        "T=data.groupby(['start_hour','member_casual']).mean().reset_index()[['start_hour','member_casual','ride_duration']]\n",
        "plt.figure(figsize=(16,6))\n",
        "sns.barplot(data=T,x='start_hour',y='ride_duration',hue='member_casual')\n",
        "plt.xlabel('Hour')\n",
        "plt.ylabel('Mean ride duration in minutes')\n",
        "plt.title('Mean ride duratin per hour for each customer type');\n",
        "#plt.legend(['Casual customer','Member'])\n",
        "\n",
        "plt.savefig('/content/drive/MyDrive/Cyclistic_project/mean_ride_duration_per_hour.png');"
      ],
      "execution_count": null,
      "outputs": [
        {
          "output_type": "display_data",
          "data": {
            "image/png": "[encoded data removed]",
            "text/plain": [
              "<Figure size 1152x432 with 1 Axes>"
            ]
          },
          "metadata": {
            "tags": []
          }
        }
      ]
    },
    {
      "cell_type": "code",
      "metadata": {
        "colab": {
          "base_uri": "https://localhost:8080/",
          "height": 404
        },
        "id": "UxF0rBRAi3bw",
        "outputId": "f5ed2a5f-5ab6-400b-abe2-da07228305f0"
      },
      "source": [
        "plt.figure(figsize=(16,6))\n",
        "\n",
        "sns.boxplot(data=T,y='member_casual',x='ride_duration')\n",
        "plt.ylabel('Customer type')\n",
        "plt.xlabel('Mean ride duration in minutes')\n",
        "plt.title('Dispersion of ride durations for Casual customers and members');"
      ],
      "execution_count": null,
      "outputs": [
        {
          "output_type": "display_data",
          "data": {
            "image/png": "[encoded data removed]",
            "text/plain": [
              "<Figure size 1152x432 with 1 Axes>"
            ]
          },
          "metadata": {
            "tags": []
          }
        }
      ]
    },
    {
      "cell_type": "code",
      "metadata": {
        "colab": {
          "base_uri": "https://localhost:8080/",
          "height": 405
        },
        "id": "5rEQ0mbjXpy4",
        "outputId": "6666b1b7-41f9-49f3-d794-c504c550d7b5"
      },
      "source": [
        "T=data.groupby(['start_dayofweek','member_casual']).mean().reset_index()[['start_dayofweek','member_casual','ride_duration']]\n",
        "plt.figure(figsize=(17,6))\n",
        "sns.barplot(data=T,x='start_dayofweek',y='ride_duration',hue='member_casual',order=['Monday','Tuesday','Wednesday','Thursday','Friday','Saturday','Sunday'])\n",
        "plt.ylabel('Mean ride duration in minutes')\n",
        "plt.title('Mean ride duratin per day for each customer type');\n",
        "#plt.legend(['Casual customer','Member'])\n",
        "\n",
        "plt.savefig('/content/drive/MyDrive/Cyclistic_project/mean_rides_duration_per_day.png');"
      ],
      "execution_count": null,
      "outputs": [
        {
          "output_type": "display_data",
          "data": {
            "image/png": "[encoded data removed]",
            "text/plain": [
              "<Figure size 1224x432 with 1 Axes>"
            ]
          },
          "metadata": {
            "tags": []
          }
        }
      ]
    },
    {
      "cell_type": "markdown",
      "metadata": {
        "id": "av6JJHgy7lKy"
      },
      "source": [
        "> * The average duration of a casual rides is 3 times that of a member's ride. \n",
        "> * Members ride durations are short and show less dispersion"
      ]
    },
    {
      "cell_type": "code",
      "metadata": {
        "id": "5LX9GgFRVC_e"
      },
      "source": [
        ""
      ],
      "execution_count": null,
      "outputs": []
    }
  ]
}